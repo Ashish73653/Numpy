{
 "cells": [
  {
   "cell_type": "markdown",
   "id": "8f307d63-6214-467c-9a0e-dbf19b3b9390",
   "metadata": {},
   "source": [
    "## SearchSorted"
   ]
  },
  {
   "cell_type": "code",
   "execution_count": 1,
   "id": "cf7bfe4c-2a71-4074-8b27-8ea4ab0cec52",
   "metadata": {},
   "outputs": [
    {
     "name": "stdout",
     "output_type": "stream",
     "text": [
      "[5 6 7]\n"
     ]
    }
   ],
   "source": [
    "import numpy as np\n",
    "var1 = np.array([1,2,3,4,5,6,7,8,9,10])\n",
    "\n",
    "x1 = np.searchsorted( var1,[5,6,7],side = \"right\")\n",
    "print(x1)"
   ]
  },
  {
   "cell_type": "code",
   "execution_count": null,
   "id": "9bcfb32a-39d7-46d8-86c3-4d1b243490f1",
   "metadata": {},
   "outputs": [],
   "source": []
  }
 ],
 "metadata": {
  "kernelspec": {
   "display_name": "Python 3 (ipykernel)",
   "language": "python",
   "name": "python3"
  },
  "language_info": {
   "codemirror_mode": {
    "name": "ipython",
    "version": 3
   },
   "file_extension": ".py",
   "mimetype": "text/x-python",
   "name": "python",
   "nbconvert_exporter": "python",
   "pygments_lexer": "ipython3",
   "version": "3.12.2"
  }
 },
 "nbformat": 4,
 "nbformat_minor": 5
}
