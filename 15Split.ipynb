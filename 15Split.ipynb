{
 "cells": [
  {
   "cell_type": "markdown",
   "id": "30677396-053a-4a03-8029-09ec06129d60",
   "metadata": {},
   "source": [
    "## Split"
   ]
  },
  {
   "cell_type": "code",
   "execution_count": 1,
   "id": "67055ad2-88ae-43e9-ac7c-37558a82eae1",
   "metadata": {},
   "outputs": [
    {
     "name": "stdout",
     "output_type": "stream",
     "text": [
      "[1 2 3 4 5 6]\n",
      "\n",
      "[array([1, 2]), array([3, 4]), array([5, 6])]\n",
      "[1 2]\n"
     ]
    }
   ],
   "source": [
    "import numpy as np\n",
    "var = np.array([1,2,3,4,5,6])\n",
    "print(var)\n",
    "ar = np.array_split(var,3)\n",
    "print()\n",
    "print(ar)\n",
    "print(ar[0])\n"
   ]
  },
  {
   "cell_type": "code",
   "execution_count": 3,
   "id": "a210516b-bc17-4072-a8be-4b74b7c8435e",
   "metadata": {},
   "outputs": [
    {
     "name": "stdout",
     "output_type": "stream",
     "text": [
      "[1 2 3 4 5 6]\n",
      "\n",
      "[array([[1, 2]]), array([[3, 4]]), array([[5, 6]])]\n",
      "\n",
      "[array([[1],\n",
      "       [3],\n",
      "       [5]]), array([[2],\n",
      "       [4],\n",
      "       [6]]), array([], shape=(3, 0), dtype=int32)]\n"
     ]
    }
   ],
   "source": [
    "var1 = np.array([[1,2],[3,4],[5,6]])\n",
    "print(var)\n",
    "ar1 = np.array_split(var1,3)\n",
    "ar2 = np.array_split(var1,3,axis=1)\n",
    "\n",
    "print()\n",
    "print(ar1)\n",
    "print()\n",
    "print(ar2)"
   ]
  },
  {
   "cell_type": "code",
   "execution_count": null,
   "id": "99e62f44-ca08-4723-866d-5e28dd94de7d",
   "metadata": {},
   "outputs": [],
   "source": []
  }
 ],
 "metadata": {
  "kernelspec": {
   "display_name": "Python 3 (ipykernel)",
   "language": "python",
   "name": "python3"
  },
  "language_info": {
   "codemirror_mode": {
    "name": "ipython",
    "version": 3
   },
   "file_extension": ".py",
   "mimetype": "text/x-python",
   "name": "python",
   "nbconvert_exporter": "python",
   "pygments_lexer": "ipython3",
   "version": "3.12.2"
  }
 },
 "nbformat": 4,
 "nbformat_minor": 5
}
