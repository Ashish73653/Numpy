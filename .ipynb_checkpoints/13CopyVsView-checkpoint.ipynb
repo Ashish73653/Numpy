{
 "cells": [
  {
   "cell_type": "markdown",
   "id": "d6b4f2c6-a891-49d1-9ca3-597003ae1891",
   "metadata": {},
   "source": [
    "## Copy vs View"
   ]
  },
  {
   "cell_type": "code",
   "execution_count": 3,
   "id": "ff488920-0988-45ce-9711-7f1d63cbdd99",
   "metadata": {},
   "outputs": [
    {
     "name": "stdout",
     "output_type": "stream",
     "text": [
      "var: [ 1 40  3  4]\n",
      "copy: [1 2 3 4]\n"
     ]
    }
   ],
   "source": [
    "import numpy as np\n",
    "\n",
    "var = np.array([1,2,3,4])\n",
    "co = var.copy()\n",
    "var[1] = 40\n",
    "print(\"var:\",var)\n",
    "print(\"copy:\",co)"
   ]
  },
  {
   "cell_type": "code",
   "execution_count": 4,
   "id": "9bd00bdf-69a5-4636-bcb5-c2c5d9f103d8",
   "metadata": {},
   "outputs": [
    {
     "name": "stdout",
     "output_type": "stream",
     "text": [
      "x: [ 9 40  7  6  5]\n",
      "view: [ 9 40  7  6  5]\n"
     ]
    }
   ],
   "source": [
    "x = np.array([9,8,7,6,5])\n",
    "vi = x.view()\n",
    "x[1] = 40\n",
    "print(\"x:\",x)\n",
    "print(\"view:\",vi)"
   ]
  },
  {
   "cell_type": "code",
   "execution_count": null,
   "id": "3d77863f-df10-4f57-8c0c-13a6f707f3fa",
   "metadata": {},
   "outputs": [],
   "source": []
  }
 ],
 "metadata": {
  "kernelspec": {
   "display_name": "Python 3 (ipykernel)",
   "language": "python",
   "name": "python3"
  },
  "language_info": {
   "codemirror_mode": {
    "name": "ipython",
    "version": 3
   },
   "file_extension": ".py",
   "mimetype": "text/x-python",
   "name": "python",
   "nbconvert_exporter": "python",
   "pygments_lexer": "ipython3",
   "version": "3.12.2"
  }
 },
 "nbformat": 4,
 "nbformat_minor": 5
}
