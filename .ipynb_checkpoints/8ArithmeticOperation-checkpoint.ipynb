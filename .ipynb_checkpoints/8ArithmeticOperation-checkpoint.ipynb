{
 "cells": [
  {
   "cell_type": "markdown",
   "id": "1b6bb3bb-cc28-4451-b41f-7239967598d8",
   "metadata": {},
   "source": [
    "## Arithmetic Operations"
   ]
  },
  {
   "cell_type": "markdown",
   "id": "79943fbf-f425-4f3d-bafb-d596673f924d",
   "metadata": {},
   "source": [
    "1. a+b  --> np.add(a,b)\n",
    "2. a-b  --> np.subtract(a,b)\n",
    "3. a*b  --> np.multiply(a,b)\n",
    "4. a/b  --> np.divide(a,b)\n",
    "5. a%b  --> np.mod(a,b)\n",
    "6. a**b --> np.power(a,b)\n",
    "7. 1/a  --> np.reciprocal(a)"
   ]
  },
  {
   "cell_type": "code",
   "execution_count": 9,
   "id": "798154eb-d199-43ee-9c24-041b9f26864c",
   "metadata": {},
   "outputs": [
    {
     "name": "stdout",
     "output_type": "stream",
     "text": [
      "[4 5 6 7]\n",
      "[ 6  8 10 12]\n"
     ]
    }
   ],
   "source": [
    "import numpy as np\n",
    "\n",
    "var = np.array([1,2,3,4])\n",
    "var_add = var+3\n",
    "print(var_add)\n",
    "\n",
    "x = np.array([1,2,3,4])\n",
    "y = np.array([5,6,7,8])\n",
    "sum = np.add(x,y)\n",
    "print(sum)"
   ]
  },
  {
   "cell_type": "code",
   "execution_count": 2,
   "id": "7d20c651-86eb-4d3f-97c9-c85058038368",
   "metadata": {},
   "outputs": [
    {
     "name": "stdout",
     "output_type": "stream",
     "text": [
      "[0 1 2 3]\n"
     ]
    }
   ],
   "source": [
    "var = np.array([1,2,3,4])\n",
    "var_sub = var-1\n",
    "print(var_sub)"
   ]
  },
  {
   "cell_type": "code",
   "execution_count": 4,
   "id": "8abdb70a-81f4-4ea4-9fd7-4a939ead64a8",
   "metadata": {},
   "outputs": [
    {
     "name": "stdout",
     "output_type": "stream",
     "text": [
      "[ 3  6  9 12]\n"
     ]
    }
   ],
   "source": [
    "var = np.array([1,2,3,4])\n",
    "var_mult = var*3\n",
    "print(var_mult)"
   ]
  },
  {
   "cell_type": "code",
   "execution_count": 5,
   "id": "877b4e48-9345-4706-a845-4b4fdde60224",
   "metadata": {},
   "outputs": [
    {
     "name": "stdout",
     "output_type": "stream",
     "text": [
      "[0.33333333 0.66666667 1.         1.33333333]\n"
     ]
    }
   ],
   "source": [
    "var = np.array([1,2,3,4])\n",
    "var_div = var/3\n",
    "print(var_div)"
   ]
  },
  {
   "cell_type": "code",
   "execution_count": 6,
   "id": "4a0f8b4c-f56b-4cdc-a0bd-161bed684932",
   "metadata": {},
   "outputs": [
    {
     "name": "stdout",
     "output_type": "stream",
     "text": [
      "[1 0 1 0]\n"
     ]
    }
   ],
   "source": [
    "var = np.array([1,2,3,4])\n",
    "var_mod = var%2\n",
    "print(var_mod)"
   ]
  },
  {
   "cell_type": "code",
   "execution_count": 7,
   "id": "85ba5cd2-6fc6-42d9-8f1e-98ff225d8820",
   "metadata": {},
   "outputs": [
    {
     "name": "stdout",
     "output_type": "stream",
     "text": [
      "[ 1  4  9 16]\n"
     ]
    }
   ],
   "source": [
    "var = np.array([1,2,3,4])\n",
    "var_pow = var**2\n",
    "print(var_pow)"
   ]
  },
  {
   "cell_type": "code",
   "execution_count": 11,
   "id": "208ee0bc-04fa-4492-9b19-8e3002165d86",
   "metadata": {},
   "outputs": [
    {
     "name": "stdout",
     "output_type": "stream",
     "text": [
      "[1 0 0 0]\n"
     ]
    }
   ],
   "source": [
    "var = np.array([1,2,3,4])\n",
    "var_rec = np.reciprocal(var)\n",
    "print(var_rec)"
   ]
  },
  {
   "cell_type": "markdown",
   "id": "a15aeb02-613a-4553-a80c-a9a627e8a243",
   "metadata": {},
   "source": [
    "## 2D Array"
   ]
  },
  {
   "cell_type": "code",
   "execution_count": 10,
   "id": "f063af39-8750-4b52-a62a-f881d2d35a14",
   "metadata": {},
   "outputs": [
    {
     "name": "stdout",
     "output_type": "stream",
     "text": [
      "[[1 2 3 4]\n",
      " [1 2 3 4]]\n",
      "\n",
      "[[1 2 3 4]\n",
      " [1 2 3 4]]\n",
      "\n",
      "[[2 4 6 8]\n",
      " [2 4 6 8]]\n"
     ]
    }
   ],
   "source": [
    "var21 = np.array([[1,2,3,4],[1,2,3,4]])\n",
    "var22 = np.array([[1,2,3,4],[1,2,3,4]])\n",
    "\n",
    "print(var21)\n",
    "print()\n",
    "print(var22)\n",
    "print()\n",
    "varAdd = var21+var22\n",
    "print(varAdd)"
   ]
  },
  {
   "cell_type": "markdown",
   "id": "ab0d15d4-4879-4b05-93f3-d248a9634a7c",
   "metadata": {},
   "source": [
    "1. np.min(x)\n",
    "2. np.max(x)\n",
    "3. np.argmin(x)\n",
    "4. np.sqrt(x)\n",
    "5. np.sin(x)\n",
    "6. np.cos(x)\n",
    "7. np.cumsum(x) --> sum till particular elem (preprocessing of array)"
   ]
  },
  {
   "cell_type": "code",
   "execution_count": 19,
   "id": "1cd3fd7e-67b7-42b2-895f-08bce539584c",
   "metadata": {},
   "outputs": [
    {
     "name": "stdout",
     "output_type": "stream",
     "text": [
      "Minimum is: 1 ,And place is: 2\n",
      "Maximum is: 31 ,And place is: 5\n",
      "[1.73205081 1.         2.23606798 2.44948974 5.56776436 3.        ]\n"
     ]
    }
   ],
   "source": [
    "arr = np.array([3,1,5,6,31,9])\n",
    "print(\"Minimum is:\",np.min(arr),\",And place is:\",np.argmin(arr)+1)\n",
    "print(\"Maximum is:\",np.max(arr),\",And place is:\",np.argmax(arr)+1)\n",
    "print(np.sqrt(arr))"
   ]
  },
  {
   "cell_type": "code",
   "execution_count": 21,
   "id": "4f1d1c94-aa4e-4ec6-a3a8-3f063eb4e182",
   "metadata": {},
   "outputs": [
    {
     "name": "stdout",
     "output_type": "stream",
     "text": [
      "[1 2 3]\n"
     ]
    }
   ],
   "source": [
    "arr1 = np.array([[1,2,3],[9,5,6]])\n",
    "## axis=0 (along column)  axis=1 (along row)\n",
    "print(np.min(arr1,axis=0))"
   ]
  },
  {
   "cell_type": "code",
   "execution_count": 23,
   "id": "ee94d1aa-c42a-43fd-9aa8-ee332472b0c5",
   "metadata": {},
   "outputs": [
    {
     "name": "stdout",
     "output_type": "stream",
     "text": [
      "Sin values of arr2 are: [0.84147098 0.90929743 0.14112001]\n",
      "Cos values of arr2 are: [ 0.54030231 -0.41614684 -0.9899925 ]\n",
      "Cumsum values of arr2 are: [1 3 6]\n"
     ]
    }
   ],
   "source": [
    "arr2 = np.array([1,2,3])\n",
    "sin1 = np.sin(arr2)\n",
    "print(\"Sin values of arr2 are:\",sin1)\n",
    "cos1 = np.cos(arr2)\n",
    "print(\"Cos values of arr2 are:\",cos1)\n",
    "cumsum1 = np.cumsum(arr2)\n",
    "print(\"Cumsum values of arr2 are:\",cumsum1)"
   ]
  },
  {
   "cell_type": "code",
   "execution_count": null,
   "id": "122cadda-b760-4121-8a40-58c1baff9caa",
   "metadata": {},
   "outputs": [],
   "source": []
  }
 ],
 "metadata": {
  "kernelspec": {
   "display_name": "Python 3 (ipykernel)",
   "language": "python",
   "name": "python3"
  },
  "language_info": {
   "codemirror_mode": {
    "name": "ipython",
    "version": 3
   },
   "file_extension": ".py",
   "mimetype": "text/x-python",
   "name": "python",
   "nbconvert_exporter": "python",
   "pygments_lexer": "ipython3",
   "version": "3.12.2"
  }
 },
 "nbformat": 4,
 "nbformat_minor": 5
}
