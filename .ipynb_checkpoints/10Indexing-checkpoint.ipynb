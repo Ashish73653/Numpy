{
 "cells": [
  {
   "cell_type": "markdown",
   "id": "8f9dd485-0033-4a6c-a032-f46fa515e212",
   "metadata": {},
   "source": [
    "## Indexing"
   ]
  },
  {
   "cell_type": "code",
   "execution_count": 1,
   "id": "831576e9-d025-49f8-b490-923d9fd39bed",
   "metadata": {},
   "outputs": [
    {
     "name": "stdout",
     "output_type": "stream",
     "text": [
      "9\n",
      "0\n"
     ]
    }
   ],
   "source": [
    "import numpy as np\n",
    "\n",
    "var = np.array([0,9,7,6])\n",
    "#               0,1,2,3\n",
    "#              -4,-3,-2,-1\n",
    "\n",
    "print(var[1])\n",
    "print(var[-4])"
   ]
  },
  {
   "cell_type": "code",
   "execution_count": 4,
   "id": "32948146-97f7-4fd8-8eae-be3fcfc3c34b",
   "metadata": {},
   "outputs": [
    {
     "name": "stdout",
     "output_type": "stream",
     "text": [
      "[[0 9 7]\n",
      " [4 5 6]]\n",
      "2\n",
      "\n",
      "7\n"
     ]
    }
   ],
   "source": [
    "var1 = np.array([[0,9,7],[4,5,6]])\n",
    "\n",
    "print(var1)\n",
    "print(var1.ndim)\n",
    "print()\n",
    "\n",
    "print(var1[0,2])"
   ]
  },
  {
   "cell_type": "code",
   "execution_count": 5,
   "id": "1d4f652f-c167-4dd3-abf6-98969074f1d9",
   "metadata": {},
   "outputs": [
    {
     "name": "stdout",
     "output_type": "stream",
     "text": [
      "[[[2 3]\n",
      "  [6 7]]]\n",
      "3\n",
      "\n",
      "[6 7]\n"
     ]
    }
   ],
   "source": [
    "var2 = np.array([[[2,3],[6,7]]])\n",
    "\n",
    "print(var2)\n",
    "print(var2.ndim)\n",
    "print()\n",
    "print(var2[0,1])"
   ]
  },
  {
   "cell_type": "code",
   "execution_count": null,
   "id": "4c98a5e2-6e55-4a46-a9f0-6afed49a3f2d",
   "metadata": {},
   "outputs": [],
   "source": []
  }
 ],
 "metadata": {
  "kernelspec": {
   "display_name": "Python 3 (ipykernel)",
   "language": "python",
   "name": "python3"
  },
  "language_info": {
   "codemirror_mode": {
    "name": "ipython",
    "version": 3
   },
   "file_extension": ".py",
   "mimetype": "text/x-python",
   "name": "python",
   "nbconvert_exporter": "python",
   "pygments_lexer": "ipython3",
   "version": "3.12.2"
  }
 },
 "nbformat": 4,
 "nbformat_minor": 5
}
