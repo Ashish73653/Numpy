{
 "cells": [
  {
   "cell_type": "markdown",
   "id": "bf114d1c-cd53-42d2-b6a9-c3cca30888eb",
   "metadata": {},
   "source": [
    "# ARRAYS"
   ]
  },
  {
   "cell_type": "code",
   "execution_count": 1,
   "id": "ed1949b9-65b1-4f6d-a7be-0ad66d3efb9c",
   "metadata": {},
   "outputs": [
    {
     "name": "stdout",
     "output_type": "stream",
     "text": [
      "[1 2 3 4]\n",
      "<class 'numpy.ndarray'>\n"
     ]
    }
   ],
   "source": [
    "import numpy as np\n",
    "arr = np.array([1,2,3,4])\n",
    "print(arr)\n",
    "print(type(arr))"
   ]
  },
  {
   "cell_type": "code",
   "execution_count": 5,
   "id": "3e32579f-251a-40e0-8d09-4598aba00728",
   "metadata": {},
   "outputs": [
    {
     "name": "stdout",
     "output_type": "stream",
     "text": [
      "Dimension of array: 1\n",
      "[1 2 3 4]\n",
      "\n",
      "\n",
      "Dimension of array: 2\n",
      "[[1 2 3]\n",
      " [4 5 6]]\n",
      "\n",
      "\n",
      "Dimension of array: 3\n",
      "[[[1 2 3]\n",
      "  [4 5 6]]\n",
      "\n",
      " [[1 2 3]\n",
      "  [4 5 6]]]\n"
     ]
    }
   ],
   "source": [
    "oneD = np.array([1,2,3,4])\n",
    "print(\"Dimension of array:\",oneD.ndim)\n",
    "print(oneD)\n",
    "print(\"\\n\")\n",
    "twoD = np.array([[1,2,3],[4,5,6]])\n",
    "print(\"Dimension of array:\",twoD.ndim)\n",
    "print(twoD)\n",
    "print(\"\\n\")\n",
    "threeD = np.array([[[1,2,3],[4,5,6]],[[1,2,3],[4,5,6]]])\n",
    "print(\"Dimension of array:\",threeD.ndim)\n",
    "print(threeD)"
   ]
  },
  {
   "cell_type": "code",
   "execution_count": 8,
   "id": "fa0c4667-994b-4d91-bec6-5a567097d5f8",
   "metadata": {},
   "outputs": [
    {
     "name": "stdout",
     "output_type": "stream",
     "text": [
      "[[[[[1 2 3 4]]]]]\n",
      "number of dimensions: 5\n"
     ]
    }
   ],
   "source": [
    "arr = np.array([1,2,3,4],ndmin=5)\n",
    "print(arr)\n",
    "print('number of dimensions:',arr.ndim)"
   ]
  },
  {
   "cell_type": "markdown",
   "id": "213cb821-c4c4-4c43-bde2-59ba0a944579",
   "metadata": {},
   "source": [
    "# ARRAY INDEXING"
   ]
  },
  {
   "cell_type": "code",
   "execution_count": 10,
   "id": "22bdf95a-ef37-4050-812e-87d92cc3c8b3",
   "metadata": {},
   "outputs": [
    {
     "name": "stdout",
     "output_type": "stream",
     "text": [
      "3\n"
     ]
    }
   ],
   "source": [
    "print(oneD[0]+oneD[1])"
   ]
  },
  {
   "cell_type": "code",
   "execution_count": 14,
   "id": "3e1c76a4-4526-434f-b540-67867be87288",
   "metadata": {},
   "outputs": [
    {
     "name": "stdout",
     "output_type": "stream",
     "text": [
      "5th element on 2nd row: 10\n",
      "Last element from 2nd dim: 10\n"
     ]
    }
   ],
   "source": [
    "arr1 = np.array([[1,2,3,4,5],[6,7,8,9,10]])\n",
    "print('5th element on 2nd row:',arr1[1,4])\n",
    "print('Last element from 2nd dim:',arr1[1,-1])"
   ]
  },
  {
   "cell_type": "markdown",
   "id": "9826bc9f-8ec4-4b1f-9ad3-a8c63bcc55c6",
   "metadata": {},
   "source": [
    "# Slicing"
   ]
  },
  {
   "cell_type": "code",
   "execution_count": 23,
   "id": "edb76d1b-02c9-4096-9a02-546b9de727fb",
   "metadata": {},
   "outputs": [
    {
     "name": "stdout",
     "output_type": "stream",
     "text": [
      "SLICING ONE-D ARRAY\n",
      "[2 3 4 5]\n",
      "[2 3 4 5 6 7]\n",
      "[1 2 3 4 5]\n",
      "[5 6]\n",
      "Start : End : Step\n",
      "[2 4]\n",
      "[1 3 5 7]\n",
      "SLICING TWO-D ARRAY\n",
      "[7 8 9]\n",
      "[[2 3 4]\n",
      " [7 8 9]]\n"
     ]
    }
   ],
   "source": [
    "print('SLICING ONE-D ARRAY')\n",
    "arr2 = np.array([1,2,3,4,5,6,7])\n",
    "print(arr2[1:5])\n",
    "print(arr2[1:])\n",
    "print(arr2[:5])\n",
    "print(arr2[-3:-1])\n",
    "print('Start : End : Step')\n",
    "print(arr2[1:5:2])\n",
    "print(arr2[::2])\n",
    "print('SLICING TWO-D ARRAY')\n",
    "arr3 = np.array([[1,2,3,4,5],[6,7,8,9,10]])\n",
    "print(arr3[1,1:4])\n",
    "print(arr3[0:2,1:4])"
   ]
  },
  {
   "cell_type": "markdown",
   "id": "eaeb9b49-6eb5-472f-bc1e-522ab83efa48",
   "metadata": {},
   "source": [
    "# COPY VIEW"
   ]
  },
  {
   "cell_type": "code",
   "execution_count": 25,
   "id": "e5ad1b51-57d0-40f7-9166-7bd1f8fb6cfa",
   "metadata": {},
   "outputs": [
    {
     "name": "stdout",
     "output_type": "stream",
     "text": [
      "COPY\n",
      "[42  2  3  4  5]\n",
      "[1 2 3 4 5]\n"
     ]
    }
   ],
   "source": [
    "print('COPY')\n",
    "ar1 = np.array([1,2,3,4,5])\n",
    "x = ar1.copy()\n",
    "ar1[0] = 42\n",
    "print(ar1)\n",
    "print(x)"
   ]
  },
  {
   "cell_type": "code",
   "execution_count": 27,
   "id": "720238ff-36ef-4a9a-8027-a2a278e87db4",
   "metadata": {},
   "outputs": [
    {
     "name": "stdout",
     "output_type": "stream",
     "text": [
      "VIEW\n",
      "[42  2  3  4  5]\n",
      "[42  2  3  4  5]\n"
     ]
    }
   ],
   "source": [
    "print('VIEW')\n",
    "ar2 = np.array([1,2,3,4,5])\n",
    "x = ar2.view()\n",
    "ar2[0] = 42\n",
    "print(ar2)\n",
    "print(x)"
   ]
  },
  {
   "cell_type": "code",
   "execution_count": 28,
   "id": "4169cced-667c-4b68-b32e-1a0a600311ff",
   "metadata": {},
   "outputs": [
    {
     "name": "stdout",
     "output_type": "stream",
     "text": [
      "Check if Array owns its data\n",
      "None\n",
      "[1 2 3 4 5]\n"
     ]
    }
   ],
   "source": [
    "print('Check if Array owns its data')\n",
    "ar3 = np.array([1,2,3,4,5])\n",
    "x = ar3.copy()\n",
    "y = ar3.view()\n",
    "print(x.base)\n",
    "print(y.base)"
   ]
  },
  {
   "cell_type": "code",
   "execution_count": null,
   "id": "e6a09466-f6fb-4919-a2b1-a1ed14fdb411",
   "metadata": {},
   "outputs": [],
   "source": []
  }
 ],
 "metadata": {
  "kernelspec": {
   "display_name": "Python 3 (ipykernel)",
   "language": "python",
   "name": "python3"
  },
  "language_info": {
   "codemirror_mode": {
    "name": "ipython",
    "version": 3
   },
   "file_extension": ".py",
   "mimetype": "text/x-python",
   "name": "python",
   "nbconvert_exporter": "python",
   "pygments_lexer": "ipython3",
   "version": "3.12.2"
  }
 },
 "nbformat": 4,
 "nbformat_minor": 5
}
