{
 "cells": [
  {
   "cell_type": "markdown",
   "id": "9dfff1fa-0c46-4fc2-93da-ee2874455783",
   "metadata": {},
   "source": [
    "# DataTypes"
   ]
  },
  {
   "cell_type": "markdown",
   "id": "6624625c-07bb-4e51-ba77-60afb82537c4",
   "metadata": {},
   "source": [
    "1. bool_ --> Boolean\n",
    "2. int_ --> Integer\n",
    "3. Intc --> Identical to C int(normally int32 or int64)\n",
    "4. Intp --> Integer used for indexing\n",
    "5. int8 --> Byte (-128 to 127)\n",
    "6. int16 --> Integer (-32768 to 32767)\n",
    "7. int32 --> Integer()\n",
    "8. int64 --> Integer()\n",
    "9. uint8 --> Unsigned integer (0to 255)\n",
    "10. uint16 --> Unsigned integer()\n",
    "11. uint32 --> Unsigned integer()\n",
    "12. uint64 --> Unsigned integer()\n",
    "13. float_ --> Float\n",
    "14. float16 --> half precision float \n",
    "15. float32 --> single precision float\n",
    "16. float64 --> double precision float\n",
    "17. complex --> Shorthand for complex128\n",
    "18. complex64 -->\n",
    "19. complex128 -->\n",
    "\n",
    "20. i --> integer\n",
    "21. b --> boolean\n",
    "22. u --> unsigned integer\n",
    "23. f --> float\n",
    "24. c --> complex float\n",
    "25. m --> timedelta\n",
    "26. M --> datetime\n",
    "27. O --> object\n",
    "28. S --> String\n",
    "29. U --> Unicode string\n",
    "30. V --> the fixed chunk of memory for other types(void)"
   ]
  },
  {
   "cell_type": "code",
   "execution_count": 1,
   "id": "6119ebc9-8c3b-4e20-8546-d453204c7d90",
   "metadata": {},
   "outputs": [
    {
     "name": "stdout",
     "output_type": "stream",
     "text": [
      "Data type: int32\n"
     ]
    }
   ],
   "source": [
    "import numpy as np\n",
    "\n",
    "var = np.array([1,2,3,4,5,11,22,31,12])\n",
    "print(\"Data type:\",var.dtype)"
   ]
  },
  {
   "cell_type": "code",
   "execution_count": 2,
   "id": "c529d308-3b0d-4ae8-a62b-16d93d218b04",
   "metadata": {},
   "outputs": [
    {
     "name": "stdout",
     "output_type": "stream",
     "text": [
      "Data type: float64\n"
     ]
    }
   ],
   "source": [
    "var = np.array([1.,2,3.,4])\n",
    "print(\"Data type:\",var.dtype)"
   ]
  },
  {
   "cell_type": "code",
   "execution_count": 3,
   "id": "26d1bb9f-aaaf-4b8f-a846-90e6e4f924be",
   "metadata": {},
   "outputs": [
    {
     "name": "stdout",
     "output_type": "stream",
     "text": [
      "Data type: <U1\n"
     ]
    }
   ],
   "source": [
    "var = np.array([\"A\",\"B\",\"C\",\"D\"])\n",
    "print(\"Data type:\",var.dtype)"
   ]
  },
  {
   "cell_type": "code",
   "execution_count": 4,
   "id": "dfc51d0a-69c3-4bb6-b867-e3912cc986a0",
   "metadata": {},
   "outputs": [
    {
     "name": "stdout",
     "output_type": "stream",
     "text": [
      "Data type: <U11\n"
     ]
    }
   ],
   "source": [
    "var = np.array([\"A\",\"B\",\"C\",\"D\",1,2,3])\n",
    "print(\"Data type:\",var.dtype)"
   ]
  },
  {
   "cell_type": "markdown",
   "id": "0827da59-7f16-43cc-9fcf-ca7852bf692d",
   "metadata": {},
   "source": [
    "## Datatype Conversions"
   ]
  },
  {
   "cell_type": "code",
   "execution_count": 6,
   "id": "306ef236-32a6-4adb-a206-2cdd656bb737",
   "metadata": {},
   "outputs": [
    {
     "name": "stdout",
     "output_type": "stream",
     "text": [
      "Data Type: int8\n",
      "[1 2 3 4]\n"
     ]
    }
   ],
   "source": [
    "x = np.array([1,2,3,4], dtype = np.int8)\n",
    "print(\"Data Type:\",x.dtype)\n",
    "print(x)"
   ]
  },
  {
   "cell_type": "code",
   "execution_count": 7,
   "id": "fbe0d13a-165d-45a6-9261-5a933b282271",
   "metadata": {},
   "outputs": [
    {
     "name": "stdout",
     "output_type": "stream",
     "text": [
      "Data Type: float32\n",
      "[1. 2. 3. 4.]\n"
     ]
    }
   ],
   "source": [
    "x1 = np.array([1,2,3,4], dtype = \"f\")\n",
    "print(\"Data Type:\",x1.dtype)\n",
    "print(x1)"
   ]
  },
  {
   "cell_type": "code",
   "execution_count": 9,
   "id": "d2b369ef-f42d-407d-8e50-65a0962c7e94",
   "metadata": {},
   "outputs": [
    {
     "name": "stdout",
     "output_type": "stream",
     "text": [
      "Data type of x2 is: int32\n",
      "Data type of new is: float32\n",
      "Data type of new_one is: int32\n",
      "[1 2 3 4]\n",
      "[1. 2. 3. 4.]\n",
      "[1 2 3 4]\n"
     ]
    }
   ],
   "source": [
    "x2 = np.array([1,2,3,4])\n",
    "new = np.float32(x2)\n",
    "new_one = np.int_(new)\n",
    "\n",
    "print(\"Data type of x2 is:\",x2.dtype)\n",
    "print(\"Data type of new is:\",new.dtype)\n",
    "print(\"Data type of new_one is:\",new_one.dtype)\n",
    "\n",
    "print(x2)\n",
    "print(new)\n",
    "print(new_one)"
   ]
  },
  {
   "cell_type": "code",
   "execution_count": null,
   "id": "f6767f05-0f74-4531-9554-5fb08ef34b31",
   "metadata": {},
   "outputs": [],
   "source": [
    "x3 = np.array([1,2,3,4])\n",
    "new_1 = x3.astype(float)\n",
    "print(x3)\n",
    "print(new_1)"
   ]
  }
 ],
 "metadata": {
  "kernelspec": {
   "display_name": "Python 3 (ipykernel)",
   "language": "python",
   "name": "python3"
  },
  "language_info": {
   "codemirror_mode": {
    "name": "ipython",
    "version": 3
   },
   "file_extension": ".py",
   "mimetype": "text/x-python",
   "name": "python",
   "nbconvert_exporter": "python",
   "pygments_lexer": "ipython3",
   "version": "3.12.2"
  }
 },
 "nbformat": 4,
 "nbformat_minor": 5
}
