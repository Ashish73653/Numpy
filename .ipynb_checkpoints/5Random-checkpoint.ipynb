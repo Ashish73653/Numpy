{
 "cells": [
  {
   "cell_type": "markdown",
   "id": "a84aec7b-75c4-459a-ab1b-d8c3f54742e1",
   "metadata": {},
   "source": [
    "## Random"
   ]
  },
  {
   "cell_type": "markdown",
   "id": "47b85b53-6744-4cb3-b72b-0044f78e6b39",
   "metadata": {},
   "source": [
    "### rand() - the function is used to generate a random value between 0 to 1"
   ]
  },
  {
   "cell_type": "code",
   "execution_count": 11,
   "id": "479a02e9-a623-42b0-8388-ea4ce5aed9d7",
   "metadata": {},
   "outputs": [
    {
     "name": "stdout",
     "output_type": "stream",
     "text": [
      "[0.2645758  0.26781348 0.33679705 0.68078679]\n"
     ]
    }
   ],
   "source": [
    "import numpy as np\n",
    "var = np.random.rand(4)\n",
    "print(var)"
   ]
  },
  {
   "cell_type": "code",
   "execution_count": 12,
   "id": "412bf443-6833-410e-8b07-f5aa4d8c86ae",
   "metadata": {},
   "outputs": [
    {
     "name": "stdout",
     "output_type": "stream",
     "text": [
      "[[0.66122252 0.24996981 0.99417608 0.51253836 0.3400445 ]\n",
      " [0.69914011 0.63622757 0.5765859  0.77980148 0.93295636]]\n"
     ]
    }
   ],
   "source": [
    "var = np.random.rand(2,5)\n",
    "print(var)"
   ]
  },
  {
   "cell_type": "markdown",
   "id": "6d1fd4cc-adca-41b3-8488-88660d10a371",
   "metadata": {},
   "source": [
    "### randn() - the function is used to generate a random value close to zero. This may return positive or negative numbers as well."
   ]
  },
  {
   "cell_type": "code",
   "execution_count": 18,
   "id": "e91ef6f9-852b-4ab5-8ba5-cd11be6df13e",
   "metadata": {},
   "outputs": [
    {
     "name": "stdout",
     "output_type": "stream",
     "text": [
      "[ 0.84817367 -0.13305524  0.27862666 -0.53616581]\n"
     ]
    }
   ],
   "source": [
    "var2 = np.random.randn(4)\n",
    "print(var2)"
   ]
  },
  {
   "cell_type": "code",
   "execution_count": 17,
   "id": "8ed39a02-3813-4c36-a0aa-04b980fbd227",
   "metadata": {},
   "outputs": [
    {
     "name": "stdout",
     "output_type": "stream",
     "text": [
      "[[ 2.05346783 -1.95182392 -0.86336819 -0.03375679]\n",
      " [ 0.89575913 -1.57574257 -0.24177294  0.73267009]]\n"
     ]
    }
   ],
   "source": [
    "var2 = np.random.randn(2,4)\n",
    "print(var2)"
   ]
  },
  {
   "cell_type": "markdown",
   "id": "e4375230-77c8-416c-8ce5-eb48e54b42fe",
   "metadata": {},
   "source": [
    "### ranf() - the function for doing random sampling in numpy. It returns an array of specified shape and fills it with random floats in the half - open interval [0.0, 1.0)"
   ]
  },
  {
   "cell_type": "code",
   "execution_count": 16,
   "id": "ed7cb415-f44f-4a95-ac9a-80c2ec8c42fd",
   "metadata": {},
   "outputs": [
    {
     "name": "stdout",
     "output_type": "stream",
     "text": [
      "[0.10649741 0.00524627 0.98233756 0.50528445]\n"
     ]
    }
   ],
   "source": [
    "var3 = np.random.ranf(4)\n",
    "print(var3)"
   ]
  },
  {
   "cell_type": "markdown",
   "id": "334aed65-5fc6-4fc9-a22b-ff0312171c90",
   "metadata": {},
   "source": [
    "### randint() - the function is used to generate a random number between a given range."
   ]
  },
  {
   "cell_type": "code",
   "execution_count": 19,
   "id": "b2f247a8-1cea-4992-92af-a7171fb98707",
   "metadata": {},
   "outputs": [
    {
     "name": "stdout",
     "output_type": "stream",
     "text": [
      "[8 1 9 3 1]\n"
     ]
    }
   ],
   "source": [
    "min = 1\n",
    "max = 10\n",
    "total_value = 5\n",
    "var4 = np.random.randint(min,max,total_value)\n",
    "print(var4)"
   ]
  },
  {
   "cell_type": "code",
   "execution_count": null,
   "id": "64042fb3-c0a8-44dc-819c-1d943d9b99ab",
   "metadata": {},
   "outputs": [],
   "source": []
  }
 ],
 "metadata": {
  "kernelspec": {
   "display_name": "Python 3 (ipykernel)",
   "language": "python",
   "name": "python3"
  },
  "language_info": {
   "codemirror_mode": {
    "name": "ipython",
    "version": 3
   },
   "file_extension": ".py",
   "mimetype": "text/x-python",
   "name": "python",
   "nbconvert_exporter": "python",
   "pygments_lexer": "ipython3",
   "version": "3.12.2"
  }
 },
 "nbformat": 4,
 "nbformat_minor": 5
}
