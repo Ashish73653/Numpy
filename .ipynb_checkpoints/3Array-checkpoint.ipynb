{
 "cells": [
  {
   "cell_type": "markdown",
   "id": "5e22092e-fa0d-4119-a3bd-89914061d876",
   "metadata": {},
   "source": [
    "# Array"
   ]
  },
  {
   "cell_type": "code",
   "execution_count": 8,
   "id": "6f42b8ad-3e36-4201-bb86-17d5fa1963c9",
   "metadata": {},
   "outputs": [
    {
     "name": "stdout",
     "output_type": "stream",
     "text": [
      "[1 2 3 4]\n",
      "<class 'numpy.ndarray'>\n",
      "To print dimension of array\n",
      "1\n"
     ]
    }
   ],
   "source": [
    "import numpy as np\n",
    "\n",
    "x = [1,2,3,4]\n",
    "y = np.array(x)\n",
    "print(y)\n",
    "print(type(y))\n",
    "\n",
    "print(\"To print dimension of array\")\n",
    "print(y.ndim)"
   ]
  },
  {
   "cell_type": "code",
   "execution_count": 7,
   "id": "5db7e4eb-8cd8-438c-8d01-b8ef0e0ed6f5",
   "metadata": {},
   "outputs": [
    {
     "name": "stdin",
     "output_type": "stream",
     "text": [
      "Enter List values: 12\n",
      "Enter List values: 3\n",
      "Enter List values: 21\n",
      "Enter List values: 42\n"
     ]
    },
    {
     "name": "stdout",
     "output_type": "stream",
     "text": [
      "[12  3 21 42]\n"
     ]
    }
   ],
   "source": [
    "l = []\n",
    "for i in range(1,5):\n",
    "    int_1 = int(input(\"Enter List values:\"))\n",
    "    l.append(int_1)\n",
    "\n",
    "print(np.array(l))"
   ]
  },
  {
   "cell_type": "code",
   "execution_count": 13,
   "id": "5d4662f4-8822-4818-8eef-b78e82c5b055",
   "metadata": {},
   "outputs": [
    {
     "name": "stdout",
     "output_type": "stream",
     "text": [
      "[[1 2 3 4]\n",
      " [5 6 7 8]]\n",
      "Dimension of Array: 2\n"
     ]
    }
   ],
   "source": [
    "ar2 = np.array([[1,2,3,4],[5,6,7,8]])\n",
    "print(ar2)\n",
    "print(\"Dimension of Array:\",ar2.ndim)"
   ]
  },
  {
   "cell_type": "code",
   "execution_count": 15,
   "id": "f2446c28-491e-4727-b110-48c691a7faaa",
   "metadata": {},
   "outputs": [
    {
     "name": "stdout",
     "output_type": "stream",
     "text": [
      "[[[[[[[[[[1 2 3 4]]]]]]]]]]\n",
      "Dimension of Aray: 10\n"
     ]
    }
   ],
   "source": [
    "ar3 = np.array([1,2,3,4], ndmin=10)\n",
    "print(ar3)\n",
    "print(\"Dimension of Aray:\",ar3.ndim)"
   ]
  },
  {
   "cell_type": "code",
   "execution_count": null,
   "id": "b4ecffa2-59d1-4b54-bb13-b2c1f7738c98",
   "metadata": {},
   "outputs": [],
   "source": []
  }
 ],
 "metadata": {
  "kernelspec": {
   "display_name": "Python 3 (ipykernel)",
   "language": "python",
   "name": "python3"
  },
  "language_info": {
   "codemirror_mode": {
    "name": "ipython",
    "version": 3
   },
   "file_extension": ".py",
   "mimetype": "text/x-python",
   "name": "python",
   "nbconvert_exporter": "python",
   "pygments_lexer": "ipython3",
   "version": "3.12.2"
  }
 },
 "nbformat": 4,
 "nbformat_minor": 5
}
