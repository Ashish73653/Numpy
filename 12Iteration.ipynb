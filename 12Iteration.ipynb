{
 "cells": [
  {
   "cell_type": "markdown",
   "id": "4912a03a-bb9a-4439-a534-b383e6858401",
   "metadata": {},
   "source": [
    "## Iteration"
   ]
  },
  {
   "cell_type": "code",
   "execution_count": 1,
   "id": "38552784-76d8-4c38-99e9-705e477010e7",
   "metadata": {},
   "outputs": [
    {
     "name": "stdout",
     "output_type": "stream",
     "text": [
      "[9 8 7 6 5 4]\n",
      "\n",
      "9\n",
      "8\n",
      "7\n",
      "6\n",
      "5\n",
      "4\n"
     ]
    }
   ],
   "source": [
    "import numpy as np\n",
    "var = np.array([9,8,7,6,5,4])\n",
    "print(var)\n",
    "print()\n",
    "for i in var:\n",
    "    print(i)"
   ]
  },
  {
   "cell_type": "code",
   "execution_count": 2,
   "id": "86ebc7d0-0da4-4991-8e14-c2e38f769cf1",
   "metadata": {},
   "outputs": [
    {
     "name": "stdout",
     "output_type": "stream",
     "text": [
      "[[1 2 3 4]\n",
      " [1 2 3 4]]\n",
      "\n",
      "[1 2 3 4]\n",
      "[1 2 3 4]\n",
      "\n",
      "1\n",
      "2\n",
      "3\n",
      "4\n",
      "1\n",
      "2\n",
      "3\n",
      "4\n"
     ]
    }
   ],
   "source": [
    "var1 = np.array([[1,2,3,4],[1,2,3,4]])\n",
    "print(var1)\n",
    "print()\n",
    "\n",
    "for j in var1:\n",
    "    print(j)\n",
    "\n",
    "print()\n",
    "\n",
    "for k in var1:\n",
    "    for l in k:\n",
    "        print(l)"
   ]
  },
  {
   "cell_type": "code",
   "execution_count": 9,
   "id": "a7fdaf38-8161-42f5-8d2b-4cc2ed7cc7e0",
   "metadata": {},
   "outputs": [
    {
     "name": "stdout",
     "output_type": "stream",
     "text": [
      "[[[9 8 7 6]\n",
      "  [1 2 3 4]]]\n",
      "3\n",
      "\n",
      "9\n",
      "8\n",
      "7\n",
      "6\n",
      "1\n",
      "2\n",
      "3\n",
      "4\n",
      "\n",
      "9\n",
      "8\n",
      "7\n",
      "6\n",
      "1\n",
      "2\n",
      "3\n",
      "4\n",
      "\n",
      "b'9'\n",
      "b'8'\n",
      "b'7'\n",
      "b'6'\n",
      "b'1'\n",
      "b'2'\n",
      "b'3'\n",
      "b'4'\n"
     ]
    }
   ],
   "source": [
    "var3 = np.array([[[9,8,7,6],[1,2,3,4]]])\n",
    "print(var3)\n",
    "print(var3.ndim)\n",
    "print()\n",
    "\n",
    "for i in var3:\n",
    "    for j in i:\n",
    "        for k in j:\n",
    "            print(k)\n",
    "\n",
    "# another way is \n",
    "print()\n",
    "for i in np.nditer(var3):\n",
    "    print(i)\n",
    "\n",
    "# another way with flags and datatype string to store in buffer\n",
    "print()\n",
    "for i in np.nditer(var3, flags=['buffered'],op_dtypes=[\"S\"]):\n",
    "    print(i)"
   ]
  },
  {
   "cell_type": "code",
   "execution_count": 10,
   "id": "84609b66-53f1-4759-b8c1-69af3539468b",
   "metadata": {},
   "outputs": [
    {
     "name": "stdout",
     "output_type": "stream",
     "text": [
      "[[[9 8 7 6]\n",
      "  [1 2 3 4]]]\n",
      "3\n",
      "\n",
      "(0, 0, 0) 9\n",
      "(0, 0, 1) 8\n",
      "(0, 0, 2) 7\n",
      "(0, 0, 3) 6\n",
      "(0, 1, 0) 1\n",
      "(0, 1, 1) 2\n",
      "(0, 1, 2) 3\n",
      "(0, 1, 3) 4\n"
     ]
    }
   ],
   "source": [
    "var3 = np.array([[[9,8,7,6],[1,2,3,4]]])\n",
    "print(var3)\n",
    "print(var3.ndim)\n",
    "print()\n",
    "\n",
    "for i,d in np.ndenumerate(var3):\n",
    "    print(i,d)"
   ]
  },
  {
   "cell_type": "code",
   "execution_count": null,
   "id": "70b01499-69d1-4567-89df-6a1992d76f5f",
   "metadata": {},
   "outputs": [],
   "source": []
  }
 ],
 "metadata": {
  "kernelspec": {
   "display_name": "Python 3 (ipykernel)",
   "language": "python",
   "name": "python3"
  },
  "language_info": {
   "codemirror_mode": {
    "name": "ipython",
    "version": 3
   },
   "file_extension": ".py",
   "mimetype": "text/x-python",
   "name": "python",
   "nbconvert_exporter": "python",
   "pygments_lexer": "ipython3",
   "version": "3.12.2"
  }
 },
 "nbformat": 4,
 "nbformat_minor": 5
}
