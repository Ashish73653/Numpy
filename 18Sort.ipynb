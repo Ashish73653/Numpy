{
 "cells": [
  {
   "cell_type": "code",
   "execution_count": 1,
   "id": "89ab894f-7534-4b01-81cd-79ffffa5a891",
   "metadata": {},
   "outputs": [
    {
     "name": "stdout",
     "output_type": "stream",
     "text": [
      "[[ 2  3  4]\n",
      " [ 1  2 11]\n",
      " [ 3 22 42]]\n"
     ]
    }
   ],
   "source": [
    "import numpy as np\n",
    "var = np.array([[4,2,3],[1,11,2],[22,42,3]])\n",
    "print(np.sort(var))"
   ]
  },
  {
   "cell_type": "code",
   "execution_count": 2,
   "id": "d263b722-57ea-405e-ae70-0fb27d88ddd9",
   "metadata": {},
   "outputs": [
    {
     "name": "stdout",
     "output_type": "stream",
     "text": [
      "['a' 'o' 'r' 's' 'u']\n"
     ]
    }
   ],
   "source": [
    "var1 = np.array([\"a\",\"r\",\"s\",\"o\",\"u\"])\n",
    "print(np.sort(var1))"
   ]
  },
  {
   "cell_type": "code",
   "execution_count": null,
   "id": "643798e7-9a88-4386-9411-57b1bf72f451",
   "metadata": {},
   "outputs": [],
   "source": []
  }
 ],
 "metadata": {
  "kernelspec": {
   "display_name": "Python 3 (ipykernel)",
   "language": "python",
   "name": "python3"
  },
  "language_info": {
   "codemirror_mode": {
    "name": "ipython",
    "version": 3
   },
   "file_extension": ".py",
   "mimetype": "text/x-python",
   "name": "python",
   "nbconvert_exporter": "python",
   "pygments_lexer": "ipython3",
   "version": "3.12.2"
  }
 },
 "nbformat": 4,
 "nbformat_minor": 5
}
