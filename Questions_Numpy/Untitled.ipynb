{
 "cells": [
  {
   "cell_type": "markdown",
   "id": "59370caa-93db-43b7-8b84-545b31fd6efd",
   "metadata": {},
   "source": [
    "## Empty and Full array"
   ]
  },
  {
   "cell_type": "code",
   "execution_count": 7,
   "id": "febd4ef1-0968-465b-913e-3fb78bb79eec",
   "metadata": {},
   "outputs": [
    {
     "name": "stdout",
     "output_type": "stream",
     "text": [
      "Array is: [1 2 3 4 5 6]\n",
      "[[4128860 6029375 3801155 5570652]\n",
      " [6619251 7536754 6357084 7143524]\n",
      " [7209065 4259932 7340144 6357060]]\n",
      "[[55 55 55]\n",
      " [55 55 55]\n",
      " [55 55 55]]\n"
     ]
    }
   ],
   "source": [
    "import numpy as np\n",
    "\n",
    "ar = np.array([1,2,3,4,5,6])\n",
    "print(\"Array is:\",ar)\n",
    "\n",
    "# Empty array means uninitialised array with random values\n",
    "em_arr = np.empty((3,4),dtype=int)\n",
    "print(em_arr)\n",
    "\n",
    "full_arr = np.full((3,3),55,dtype=int)\n",
    "print(full_arr)"
   ]
  },
  {
   "cell_type": "markdown",
   "id": "1d0ed912-ae5a-4b81-8490-ae7865039120",
   "metadata": {},
   "source": [
    "## Zeros"
   ]
  },
  {
   "cell_type": "code",
   "execution_count": 9,
   "id": "361b0c40-91eb-4259-bd6d-aab5cd7f9ef9",
   "metadata": {},
   "outputs": [
    {
     "name": "stdout",
     "output_type": "stream",
     "text": [
      "[[0 0 0]\n",
      " [0 0 0]\n",
      " [0 0 0]\n",
      " [0 0 0]]\n"
     ]
    }
   ],
   "source": [
    "zer_ar = np.zeros((4,3),dtype=int)\n",
    "print(zer_ar)"
   ]
  },
  {
   "cell_type": "markdown",
   "id": "35b8e6a0-92c4-44ad-aeea-d56531a841ec",
   "metadata": {},
   "source": [
    "## Ones"
   ]
  },
  {
   "cell_type": "code",
   "execution_count": 10,
   "id": "99d1852d-7a46-476c-923c-ac0c8067a39b",
   "metadata": {},
   "outputs": [
    {
     "name": "stdout",
     "output_type": "stream",
     "text": [
      "[[1 1 1]\n",
      " [1 1 1]\n",
      " [1 1 1]\n",
      " [1 1 1]]\n"
     ]
    }
   ],
   "source": [
    "one_ar = np.ones((4,3),dtype=int)\n",
    "print(one_ar)"
   ]
  },
  {
   "cell_type": "markdown",
   "id": "b574fc6e-5143-4c71-b9b5-90b42b8c3dc7",
   "metadata": {},
   "source": [
    "## Tolist (for checking whether certain rows exist or not)"
   ]
  },
  {
   "cell_type": "code",
   "execution_count": 12,
   "id": "378c9ff0-3130-4bc5-b7bb-dbbd8761e78f",
   "metadata": {},
   "outputs": [
    {
     "name": "stdout",
     "output_type": "stream",
     "text": [
      "[[1 2 3]\n",
      " [4 5 6]\n",
      " [7 8 9]]\n",
      "\n",
      "True\n",
      "False\n",
      "True\n"
     ]
    }
   ],
   "source": [
    "arr = np.array([[1,2,3],[4,5,6],[7,8,9]])\n",
    "print(arr)\n",
    "print()\n",
    "print([1,2,3] in arr.tolist())\n",
    "print([3,4,5] in arr.tolist())\n",
    "print([7,8,9] in arr.tolist())"
   ]
  },
  {
   "cell_type": "markdown",
   "id": "945a9f52-d7b0-4ca1-bbd7-e13060a56937",
   "metadata": {},
   "source": [
    "## Remove rows in numpy array that contains non-numeric values"
   ]
  },
  {
   "cell_type": "code",
   "execution_count": 14,
   "id": "ebd76133-9e10-4f1c-9926-e9ec21bdb9e7",
   "metadata": {},
   "outputs": [
    {
     "name": "stdout",
     "output_type": "stream",
     "text": [
      "Given array:\n",
      "[[10.5  22.5   3.8   5.  ]\n",
      " [23.45 50.   78.7   3.5 ]\n",
      " [41.     nan   nan  0.  ]\n",
      " [20.   50.2    nan  2.5 ]\n",
      " [18.8  50.6   8.8  58.6 ]]\n",
      "\n",
      "Remove all rows containing non-numeric elements\n",
      "[[10.5  22.5   3.8   5.  ]\n",
      " [23.45 50.   78.7   3.5 ]\n",
      " [18.8  50.6   8.8  58.6 ]]\n"
     ]
    }
   ],
   "source": [
    "n_arr = np.array([[10.5, 22.5, 3.8, 5], \n",
    "                  [23.45, 50, 78.7, 3.5], \n",
    "                  [41, np.nan, np.nan, 0], \n",
    "                  [20, 50.20, np.nan, 2.5], \n",
    "                  [18.8, 50.60, 8.8, 58.6]]) \n",
    "  \n",
    "print(\"Given array:\") \n",
    "print(n_arr) \n",
    "  \n",
    "print(\"\\nRemove all rows containing non-numeric elements\") \n",
    "print(n_arr[~np.isnan(n_arr).any(axis=1)]) "
   ]
  },
  {
   "cell_type": "markdown",
   "id": "976166af-38a6-4f94-9855-8ec66511ae7b",
   "metadata": {},
   "source": [
    "## Find number of occurences of a sequence in an array"
   ]
  },
  {
   "cell_type": "code",
   "execution_count": 22,
   "id": "d38666dd-795c-4822-87ce-ccec5738cafb",
   "metadata": {},
   "outputs": [
    {
     "name": "stdout",
     "output_type": "stream",
     "text": [
      "4\n"
     ]
    }
   ],
   "source": [
    "arr1 = np.array([[2, 8, 9, 4],  \n",
    "                   [9, 4, 9, 4], \n",
    "                   [4, 5, 9, 7], \n",
    "                   [2, 9, 4, 3]]) \n",
    "x = repr(arr1).count(\"9, 4\")\n",
    "\n",
    "print(x)"
   ]
  },
  {
   "cell_type": "markdown",
   "id": "30209af1-6ba0-4b67-822c-6aa3692f3f1e",
   "metadata": {},
   "source": [
    "## Find most frequent value in a numpy array"
   ]
  },
  {
   "cell_type": "code",
   "execution_count": 31,
   "id": "c9dbd03f-676a-41f6-ab16-09e50e92bd40",
   "metadata": {},
   "outputs": [
    {
     "name": "stdout",
     "output_type": "stream",
     "text": [
      "1\n"
     ]
    }
   ],
   "source": [
    "arr2 = np.array([1,2,3,4,5,1,2,1,1,1])\n",
    "\n",
    "# bincount() method of NumPy to get the count of occurrences of each element in the array\n",
    "y = np.bincount(arr2).argmax()\n",
    "print(y)"
   ]
  },
  {
   "cell_type": "code",
   "execution_count": 37,
   "id": "a37ddab8-879b-433e-905d-99ab75c8f1d2",
   "metadata": {},
   "outputs": [
    {
     "name": "stdout",
     "output_type": "stream",
     "text": [
      "Original array:\n",
      "[1 1 1 2 3 4 2 4 3 3 3]\n",
      "Most frequent value in above array\n",
      "bincount value: [0 3 2 4 2]\n",
      "4\n",
      "3 "
     ]
    }
   ],
   "source": [
    "x = np.array([1, 1, 1, 2, 3, 4, 2, 4, 3, 3, 3]) \n",
    "print(\"Original array:\") \n",
    "print(x) \n",
    "  \n",
    "print(\"Most frequent value in above array\") \n",
    "y = np.bincount(x) \n",
    "print(\"bincount value:\",y)\n",
    "maximum = max(y) \n",
    "print(maximum)\n",
    "\n",
    "for i in range(len(y)): \n",
    "    if y[i] == maximum: \n",
    "        print(i, end=\" \") \n"
   ]
  },
  {
   "cell_type": "markdown",
   "id": "46499928-0319-4404-9ca4-096f2cae868e",
   "metadata": {},
   "source": [
    "## Combining a oneD and twoD array"
   ]
  },
  {
   "cell_type": "code",
   "execution_count": null,
   "id": "35c88241-7247-491f-9f60-67b7488365de",
   "metadata": {},
   "outputs": [],
   "source": []
  }
 ],
 "metadata": {
  "kernelspec": {
   "display_name": "Python 3 (ipykernel)",
   "language": "python",
   "name": "python3"
  },
  "language_info": {
   "codemirror_mode": {
    "name": "ipython",
    "version": 3
   },
   "file_extension": ".py",
   "mimetype": "text/x-python",
   "name": "python",
   "nbconvert_exporter": "python",
   "pygments_lexer": "ipython3",
   "version": "3.12.2"
  }
 },
 "nbformat": 4,
 "nbformat_minor": 5
}
