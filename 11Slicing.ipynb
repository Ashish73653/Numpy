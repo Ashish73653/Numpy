{
 "cells": [
  {
   "cell_type": "markdown",
   "id": "7b14ce7b-2a74-4da9-ba8b-7942ee866b30",
   "metadata": {},
   "source": [
    "## Slicing"
   ]
  },
  {
   "cell_type": "code",
   "execution_count": 2,
   "id": "a4353df0-098f-44cf-863a-9c67b2237faa",
   "metadata": {},
   "outputs": [
    {
     "name": "stdout",
     "output_type": "stream",
     "text": [
      "[1 2 3 4 5 6 7]\n",
      "\n",
      "2 to 5:  [2 3 4 5]\n",
      "2 to end:  [2 3 4 5 6 7]\n",
      "start to 5:  [1 2 3 4 5]\n",
      "stop:  [2 4 6]\n"
     ]
    }
   ],
   "source": [
    "import numpy as np\n",
    "\n",
    "var = np.array([1,2,3,4,5,6,7])\n",
    "\n",
    "print(var)\n",
    "print()\n",
    "print(\"2 to 5: \",var[1:5])\n",
    "print(\"2 to end: \",var[1:])\n",
    "print(\"start to 5: \",var[:5])\n",
    "print(\"stop: \",var[1:6:2])"
   ]
  },
  {
   "cell_type": "code",
   "execution_count": 4,
   "id": "c8da315a-f837-4a62-a9d7-2a07d432b564",
   "metadata": {},
   "outputs": [
    {
     "name": "stdout",
     "output_type": "stream",
     "text": [
      "[[ 1  2  3  4  5]\n",
      " [ 9  8  7  6  5]\n",
      " [11 12 13 14 15]]\n",
      "\n",
      "8 to 5: [12 13 14 15]\n"
     ]
    }
   ],
   "source": [
    "var1 = np.array([[1,2,3,4,5],[9,8,7,6,5],[11,12,13,14,15]])\n",
    "print(var1)\n",
    "print()\n",
    "print(\"8 to 5:\",var1[2,1:])"
   ]
  },
  {
   "cell_type": "code",
   "execution_count": null,
   "id": "da347e52-3be6-4ab9-84e5-63560885af13",
   "metadata": {},
   "outputs": [],
   "source": []
  }
 ],
 "metadata": {
  "kernelspec": {
   "display_name": "Python 3 (ipykernel)",
   "language": "python",
   "name": "python3"
  },
  "language_info": {
   "codemirror_mode": {
    "name": "ipython",
    "version": 3
   },
   "file_extension": ".py",
   "mimetype": "text/x-python",
   "name": "python",
   "nbconvert_exporter": "python",
   "pygments_lexer": "ipython3",
   "version": "3.12.2"
  }
 },
 "nbformat": 4,
 "nbformat_minor": 5
}
